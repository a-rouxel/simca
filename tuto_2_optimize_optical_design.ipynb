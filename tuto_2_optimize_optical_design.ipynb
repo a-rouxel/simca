{
 "cells": [
  {
   "cell_type": "markdown",
   "metadata": {},
   "source": [
    "# TUTORIAL 2 : Optimize the optical design of a CASSI"
   ]
  },
  {
   "cell_type": "markdown",
   "metadata": {},
   "source": [
    "## Introduction\n"
   ]
  },
  {
   "cell_type": "markdown",
   "metadata": {},
   "source": [
    "This notebook demonstrates how to optimize and test a CASSI system using the provided functions. The process involves loading configurations, running the optimization, and then testing the system with the optimized parameters.\n",
    "\n",
    "## 1. Initialization\n",
    "### Importing Necessary Libraries"
   ]
  },
  {
   "cell_type": "code",
   "execution_count": 1,
   "metadata": {},
   "outputs": [],
   "source": [
    "import os\n",
    "import json\n",
    "import datetime\n",
    "import math\n",
    "import numpy as np\n",
    "import matplotlib.pyplot as plt\n",
    "import pandas as pd\n",
    "import torch\n",
    "import yaml\n",
    "from pprint import pprint\n",
    "from torch.optim import Adam\n",
    "\n",
    "\n",
    "from simca import load_yaml_config\n",
    "from simca.CassiSystem import CassiSystemOptim\n",
    "from simca.cost_functions_optics import (\n",
    "    evaluate_spectral_dispersion_values,\n",
    "    evaluate_distance,\n",
    "    get_cassi_system_no_spectial_distorsions,\n",
    "    initialize_optimizer,\n",
    "    setup_results_directory,\n",
    "    plot_glass_selection,\n",
    "    evaluate_cost_functions,\n",
    "    format_score_details,\n",
    "    save_optimization_details,\n",
    "    get_catalog_glass_infos,\n",
    "    evaluate_optical_performances,\n",
    "    plot_grids_coordinates\n",
    ")\n",
    "from simca.functions_optim import save_config_system\n",
    "from opticalglass.glassfactory import get_glass_catalog\n",
    "\n",
    "\n",
    "# Set autoreload to automatically reload all modules before executing code\n",
    "%load_ext autoreload\n",
    "%autoreload 2"
   ]
  },
  {
   "cell_type": "code",
   "execution_count": 2,
   "metadata": {},
   "outputs": [],
   "source": [
    "def optimize_cassi_system(params_to_optimize,target_dispersion, cost_weights, config_path, iterations, patience, results_dir,device='cpu'):\n",
    "    config_system = load_yaml_config(config_path)\n",
    "    cassi_system = CassiSystemOptim(system_config=config_system,device=device)\n",
    "    device = cassi_system.device\n",
    "    catalog = config_system[\"system architecture\"][\"dispersive element\"][\"catalog\"]\n",
    "\n",
    "    list_of_glasses, nd_values, vd_values = get_catalog_glass_infos(catalog=catalog, device=device)\n",
    "\n",
    "    optimizer = initialize_optimizer(cassi_system,params_to_optimize)\n",
    "    non_improvement_count = 0\n",
    "    best_loss = float('inf')\n",
    "\n",
    "    optimization_details = []\n",
    "\n",
    "    for i in range(iterations):\n",
    "        optimizer.zero_grad()\n",
    "\n",
    "        if cassi_system.system_config['system architecture']['dispersive element']['type'] == 'amici':\n",
    "            cassi_system.optical_model.A3 = cassi_system.optical_model.A1\n",
    "            cassi_system.optical_model.nd3 = cassi_system.optical_model.nd1\n",
    "            cassi_system.optical_model.vd3 = cassi_system.optical_model.vd1\n",
    "\n",
    "        score, cost_details, weighted_cost_components,interesting_values = evaluate_cost_functions(cassi_system, cost_weights, target_dispersion, nd_values, vd_values, i, list_of_glasses)\n",
    "        current_loss = score.item()\n",
    "\n",
    "        latest_optical_params = {param_name: param.clone().detach() for param_name, param in cassi_system.optical_model.named_parameters()}\n",
    "\n",
    "\n",
    "\n",
    "        if i % 100 == 0:\n",
    "            print(f'Iteration {i}, Loss: {current_loss}')\n",
    "\n",
    "\n",
    "            details = {\n",
    "                'reason_for_stopping': 'no improvement' if non_improvement_count >= patience else 'completed',\n",
    "                'iterations': i,\n",
    "                'end_parameters': {\n",
    "                    param_name: (param.item() if 'A' not in param_name and 'alpha_c' not in param_name and 'delta' not in param_name else math.degrees(param.item()))\n",
    "                    for param_name, param in latest_optical_params.items()\n",
    "                },\n",
    "                'optical system values': {param_name: (param.item() if 'deviation' not in param_name else math.degrees(param.item())) for param_name, param in interesting_values.items()},\n",
    "                'current_loss': current_loss,\n",
    "            }\n",
    "            optimization_details.append(details)\n",
    "\n",
    "            # Save optical characteristics corresponding to the various iterations\n",
    "            details_path = os.path.join(results_dir, 'optimization_details.json')\n",
    "            with open(details_path, 'w') as f:\n",
    "                json.dump(optimization_details, f, indent=4)\n",
    "\n",
    "            score_details = format_score_details(cost_details,weighted_cost_components,cost_weights)\n",
    "            # Save the cost functions score details\n",
    "            details_path = os.path.join(results_dir, f'score_details_iteration_{i}.json')\n",
    "            with open(details_path, 'a') as f:\n",
    "                json.dump(score_details, f, indent=4)\n",
    "\n",
    "        if math.isnan(current_loss):\n",
    "            print(\"nan value\")\n",
    "            break\n",
    "\n",
    "        score.backward()\n",
    "        optimizer.step()\n",
    "\n",
    "        if current_loss < best_loss:\n",
    "            best_loss = current_loss\n",
    "            non_improvement_count = 0\n",
    "        else:\n",
    "            non_improvement_count += 1\n",
    "\n",
    "        if non_improvement_count >= patience:\n",
    "            print(f'Stopping early at iteration {i} due to no improvement.')\n",
    "            break"
   ]
  },
  {
   "cell_type": "code",
   "execution_count": 3,
   "metadata": {},
   "outputs": [],
   "source": [
    "def test_cassi_system(config_path,device):\n",
    "\n",
    "    config_system = load_yaml_config(config_path)\n",
    "    cassi_system = CassiSystemOptim(system_config=config_system,device=device)\n",
    "\n",
    "    plot_grids_coordinates(cassi_system)\n",
    "    performances = evaluate_optical_performances(cassi_system)\n",
    "\n",
    "    return cassi_system.system_config, performances\n",
    "\n"
   ]
  },
  {
   "cell_type": "markdown",
   "metadata": {},
   "source": []
  },
  {
   "cell_type": "code",
   "execution_count": 4,
   "metadata": {},
   "outputs": [
    {
     "name": "stderr",
     "output_type": "stream",
     "text": [
      "/home/arouxel/Documents/these/simca/simca/OpticalModelTorch.py:201: UserWarning: The use of `x.T` on tensors of dimension other than 2 to reverse their shape is deprecated and it will throw an error in a future release. Consider `x.mT` to transpose batches of matrices or `x.permute(*torch.arange(x.ndim - 1, -1, -1))` to reverse the dimensions of a tensor. (Triggered internally at ../aten/src/ATen/native/TensorShape.cpp:3614.)\n",
      "  k = torch.matmul(k,rotation_y(angle_with_P2).T)\n"
     ]
    },
    {
     "name": "stdout",
     "output_type": "stream",
     "text": [
      "Iteration 0, Loss: 1304390.875\n",
      "Iteration 100, Loss: 410322.5625\n",
      "Iteration 200, Loss: 175221.375\n",
      "Iteration 300, Loss: 121668.125\n",
      "Iteration 400, Loss: 104636.96875\n",
      "Iteration 500, Loss: 92851.0703125\n",
      "Iteration 600, Loss: 82911.2578125\n",
      "Iteration 700, Loss: 74439.140625\n",
      "Iteration 800, Loss: 67786.546875\n",
      "Iteration 900, Loss: 61811.7421875\n",
      "Iteration 1000, Loss: 56317.828125\n",
      "Iteration 1100, Loss: 51376.1484375\n",
      "Iteration 1200, Loss: 46971.68359375\n",
      "Iteration 1300, Loss: 43135.2734375\n",
      "Iteration 1400, Loss: 39758.625\n",
      "Iteration 1500, Loss: 36857.47265625\n",
      "Iteration 1600, Loss: 34309.61328125\n",
      "Iteration 1700, Loss: 32106.802734375\n",
      "Iteration 1800, Loss: 30184.513671875\n",
      "Iteration 1900, Loss: 28522.990234375\n",
      "Iteration 2000, Loss: 27085.4921875\n",
      "Iteration 2100, Loss: 25876.244140625\n",
      "Iteration 2200, Loss: 24854.0625\n",
      "Iteration 2300, Loss: 23968.01953125\n",
      "Iteration 2400, Loss: 23254.3671875\n",
      "Iteration 2500, Loss: 22680.552734375\n",
      "Iteration 2600, Loss: 22227.90234375\n",
      "Iteration 2700, Loss: 21846.54296875\n",
      "Iteration 2800, Loss: 21519.353515625\n",
      "Iteration 2900, Loss: 21309.6875\n",
      "Iteration 3000, Loss: 21086.44140625\n",
      "Iteration 3100, Loss: 20971.76171875\n",
      "Iteration 3200, Loss: 20873.23046875\n",
      "Iteration 3300, Loss: 20736.62109375\n",
      "Iteration 3400, Loss: 20715.15234375\n",
      "Iteration 3500, Loss: 20632.521484375\n",
      "Iteration 3600, Loss: 20623.177734375\n",
      "Iteration 3700, Loss: 20554.255859375\n",
      "Iteration 3800, Loss: 20575.16796875\n",
      "Iteration 3900, Loss: 20534.22265625\n",
      "Iteration 4000, Loss: 20479.927734375\n",
      "Iteration 4100, Loss: 20467.748046875\n",
      "Iteration 4200, Loss: 20468.484375\n",
      "Stopping early at iteration 4285 due to no improvement.\n"
     ]
    }
   ],
   "source": [
    "# A ajouter dans la DOC\n",
    "#  --- c'est l'ouverture codée qui limite le champ de vue\n",
    "# --- expliquer comment ajouter une fonction de coût ?\n",
    "# --- faire en sorte que le le A1=A2=A3=0 fonctionne + A2=A3=0 equivalent à simple prism\n",
    "# in score_details, seperate between cost_functions vanilla, cost_functions_weighted, and weights\n",
    "\n",
    "target_dispersion = 1000 # in [µm] ---> modify to spectral spreading\n",
    "\n",
    "params_to_optimize = [\n",
    "    'lba_c',\n",
    "    'alpha_c',\n",
    "    'A1',\n",
    "    'A2',\n",
    "    'nd1',\n",
    "    'nd2',\n",
    "    'vd1',\n",
    "    'vd2'\n",
    "]\n",
    "\n",
    "cost_weights = {\n",
    "    'cost_dispersion': 1.0,\n",
    "    'cost_distance_glasses': 1.0,\n",
    "    'cost_deviation': 1.0,\n",
    "    'cost_distorsion': 1.0,\n",
    "    'cost_thickness': 1.0,\n",
    "    'cost_beam_compression': 1.0,\n",
    "    'cost_non_linearity': 1.0,\n",
    "    'cost_distance_total_intern_reflection': 1.0\n",
    "}\n",
    "init_config_path = \"simca/configs/cassi_system_optim_optics_amici_optica.yml\"\n",
    "\n",
    "iterations = 15000\n",
    "patience = 2000\n",
    "device= \"cuda\"\n",
    "\n",
    "results_dir = setup_results_directory()\n",
    "\n",
    "# Optimization\n",
    "optimize_cassi_system(params_to_optimize,target_dispersion, cost_weights, init_config_path, iterations, patience, results_dir,device=device)\n",
    "\n"
   ]
  },
  {
   "cell_type": "code",
   "execution_count": 5,
   "metadata": {},
   "outputs": [],
   "source": [
    "output_config_path = \"simca/configs/test.yml\"\n",
    "save_config_system(output_config_path,results_dir,init_config_path,iteration_nb=300)\n"
   ]
  },
  {
   "cell_type": "code",
   "execution_count": 6,
   "metadata": {},
   "outputs": [
    {
     "data": {
      "image/png": "[encoded data removed]",
      "text/plain": [
       "<Figure size 640x480 with 1 Axes>"
      ]
     },
     "metadata": {},
     "output_type": "display_data"
    }
   ],
   "source": [
    "# Testing (retrieve the last iteration data by default)\n",
    "config_system, performances = test_cassi_system(output_config_path,device=device)"
   ]
  },
  {
   "cell_type": "code",
   "execution_count": 7,
   "metadata": {},
   "outputs": [
    {
     "name": "stdout",
     "output_type": "stream",
     "text": [
      "\n",
      "---- Optical System Configuration----\n",
      "{'coded aperture': {'number of pixels along X': 21,\n",
      "                    'number of pixels along Y': 21,\n",
      "                    'pixel size along X': 400,\n",
      "                    'pixel size along Y': 400},\n",
      " 'detector': {'number of pixels along X': 112,\n",
      "              'number of pixels along Y': 112,\n",
      "              'pixel size along X': 71,\n",
      "              'pixel size along Y': 71},\n",
      " 'infos': {'system name': 'HYACAMEO'},\n",
      " 'spectral range': {'number of spectral samples': 10,\n",
      "                    'wavelength max': 650,\n",
      "                    'wavelength min': 450},\n",
      " 'system architecture': {'dispersive element': {'A1': 31.08834708283798,\n",
      "                                                'A2': 48.23402752234842,\n",
      "                                                'A3': 31.08834708283798,\n",
      "                                                'alpha_c': 1.7665617277576846,\n",
      "                                                'catalog': 'Schott',\n",
      "                                                'delta alpha c': 0,\n",
      "                                                'delta beta c': 0,\n",
      "                                                'glass1': 'N-SK2',\n",
      "                                                'glass2': 'SF4',\n",
      "                                                'glass3': 'N-SK2',\n",
      "                                                'type': 'amici',\n",
      "                                                'wavelength center': 520.0},\n",
      "                         'focal lens': 75000,\n",
      "                         'system type': 'DD-CASSI'}}\n"
     ]
    }
   ],
   "source": [
    "print(\"\\n---- Optical System Configuration----\")\n",
    "pprint(config_system)"
   ]
  },
  {
   "cell_type": "code",
   "execution_count": 8,
   "metadata": {},
   "outputs": [
    {
     "name": "stdout",
     "output_type": "stream",
     "text": [
      "\n",
      "---- Optical Performances ----\n",
      "{'beam_compression [no units]': 0.5585954785346985,\n",
      " 'deviation [deg]': 0.00933307409286499,\n",
      " 'dispersion [um]': 1289,\n",
      " 'max distortion [um]': 32.85225296020508,\n",
      " 'mean distortion [um]': 7.694333076477051}\n"
     ]
    }
   ],
   "source": [
    "\n",
    "print(\"\\n---- Optical Performances ----\")\n",
    "pprint(performances)"
   ]
  },
  {
   "cell_type": "code",
   "execution_count": null,
   "metadata": {},
   "outputs": [],
   "source": []
  }
 ],
 "metadata": {
  "kernelspec": {
   "display_name": "simca-env",
   "language": "python",
   "name": "python3"
  },
  "language_info": {
   "codemirror_mode": {
    "name": "ipython",
    "version": 3
   },
   "file_extension": ".py",
   "mimetype": "text/x-python",
   "name": "python",
   "nbconvert_exporter": "python",
   "pygments_lexer": "ipython3",
   "version": "3.9.16"
  }
 },
 "nbformat": 4,
 "nbformat_minor": 2
}
