{
 "cells": [
  {
   "cell_type": "code",
   "execution_count": 1,
   "id": "2db4fa17-8bda-4dad-8c5f-6a24ac30954f",
   "metadata": {},
   "outputs": [],
   "source": [
    "from opticalglass.glassfactory import get_glass_catalog\n"
   ]
  },
  {
   "cell_type": "code",
   "execution_count": 2,
   "id": "971c1d93-4dcb-46a6-847b-6a4170a6f9a1",
   "metadata": {},
   "outputs": [
    {
     "name": "stdout",
     "output_type": "stream",
     "text": [
      "category         NaN          abbe number                NaN  \\\n",
      "data item         nd       ne          vd     ve Colour code   \n",
      "glass                                                          \n",
      "F2           1.62004  1.62408       36.37  36.11       35/32   \n",
      "F2HT         1.62004  1.62408       36.37  36.11       35/32   \n",
      "F5           1.60342  1.60718       38.03  37.77       35/32   \n",
      "FK5HTi       1.48748  1.48913       70.47  70.29       29/25   \n",
      "K10          1.50137  1.50349       56.41  56.15       33/30   \n",
      "...              ...      ...         ...    ...         ...   \n",
      "SF56A         1.7847   1.7918       26.08  25.87       42/37   \n",
      "SF57         1.84666  1.85504       23.83  23.64      40/37*   \n",
      "SF57HTultra  1.84666  1.85504       23.83  23.64      39/36*   \n",
      "SF6          1.80518  1.81265       25.43  25.24       42/36   \n",
      "SF6HT        1.80518  1.81265       25.43  25.24       41/36   \n",
      "\n",
      "category    dispersion coefficients                                          \\\n",
      "data item                        B1        B2        B3        C1        C2   \n",
      "glass                                                                         \n",
      "F2                         1.345334  0.209073  0.937357  0.009977  0.047045   \n",
      "F2HT                       1.345334  0.209073  0.937357  0.009977  0.047045   \n",
      "F5                         1.310446  0.196034   0.96613  0.009586  0.045763   \n",
      "FK5HTi                     0.909362  0.279077  0.891813  0.005201  0.015894   \n",
      "K10                        1.156871  0.064263  0.872376  0.008094  0.038605   \n",
      "...                             ...       ...       ...       ...       ...   \n",
      "SF56A                      1.705793  0.344223  1.096018  0.013387  0.057956   \n",
      "SF57                       1.816514  0.428894  1.071863   0.01437   0.05928   \n",
      "SF57HTultra                1.816514  0.428894  1.071863   0.01437   0.05928   \n",
      "SF6                        1.724485  0.390105  1.045729  0.013487  0.056932   \n",
      "SF6HT                      1.724485  0.390105  1.045729  0.013487  0.056932   \n",
      "\n",
      "category     ...      NaN                       \\\n",
      "data item    ...   DP g,F   DP i,g    Glascode   \n",
      "glass        ...                                 \n",
      "F2           ...   0.0002   0.0006  620364.360   \n",
      "F2HT         ...   0.0002   0.0006  620364.360   \n",
      "F5           ...  -0.0003  -0.0028  603380.347   \n",
      "FK5HTi       ...   0.0036   0.0321  487705.245   \n",
      "K10          ...  -0.0015  -0.0048  501564.252   \n",
      "...          ...      ...      ...         ...   \n",
      "SF56A        ...   0.0098     <NA>  785261.492   \n",
      "SF57         ...   0.0123     <NA>  847238.551   \n",
      "SF57HTultra  ...   0.0123     <NA>  847238.551   \n",
      "SF6          ...   0.0092   0.0669  805254.518   \n",
      "SF6HT        ...   0.0092   0.0669  805254.518   \n",
      "\n",
      "category                                                                   \\\n",
      "data item                                              Remarks       Date   \n",
      "glass                                                                       \n",
      "F2                                  lead containing glass type 2014-02-01   \n",
      "F2HT                                lead containing glass type 2014-02-01   \n",
      "F5                                  lead containing glass type 2014-02-01   \n",
      "FK5HTi                                            i-line glass 2013-05-17   \n",
      "K10                                 lead containing glass type 2014-02-01   \n",
      "...                                                        ...        ...   \n",
      "SF56A                               lead containing glass type 2014-02-01   \n",
      "SF57         lead containing glass type, suitable for preci... 2018-02-21   \n",
      "SF57HTultra  lead containing glass type, suitable for preci... 2018-02-21   \n",
      "SF6                                 lead containing glass type 2014-02-01   \n",
      "SF6HT                               lead containing glass type 2014-02-01   \n",
      "\n",
      "category                                             \n",
      "data item   rel. Price WR-J SR-J   AT Abrasion HG-J  \n",
      "glass                                                \n",
      "F2            1.241862                               \n",
      "F2HT              <NA>  NaN  NaN  NaN           NaN  \n",
      "F5             1.84953                               \n",
      "FK5HTi            <NA>  NaN  NaN  NaN           NaN  \n",
      "K10            2.58259                               \n",
      "...                ...  ...  ...  ...           ...  \n",
      "SF56A         2.693513                               \n",
      "SF57           2.56571    1    6  449           344  \n",
      "SF57HTultra       <NA>    1    6  449           344  \n",
      "SF6           1.938751  NaN                          \n",
      "SF6HT             <NA>                               \n",
      "\n",
      "[123 rows x 154 columns]\n"
     ]
    }
   ],
   "source": [
    "\n",
    "hoya_pd = get_glass_catalog('Schott')\n",
    "\n",
    "print(hoya_pd.df)"
   ]
  },
  {
   "cell_type": "code",
   "execution_count": 6,
   "id": "5a4644d0-f2e9-4f4b-b162-a86a9bbd527f",
   "metadata": {},
   "outputs": [
    {
     "ename": "SyntaxError",
     "evalue": "invalid syntax (1074339294.py, line 6)",
     "output_type": "error",
     "traceback": [
      "\u001b[0;36m  Cell \u001b[0;32mIn[6], line 6\u001b[0;36m\u001b[0m\n\u001b[0;31m    B = (nd-1)/constant\u001b[0m\n\u001b[0m    ^\u001b[0m\n\u001b[0;31mSyntaxError\u001b[0m\u001b[0;31m:\u001b[0m invalid syntax\n"
     ]
    }
   ],
   "source": [
    "nd = 1.6204\n",
    "vd = 36.37\n",
    "nm = 1*10**-9\n",
    "constant = (1/(589.3*nm)**2 - 1/(656.3*nm)**2\n",
    "\n",
    "B = (nd-1)/constant\n",
    "A = nd - B/(589.3*nm)**2"
   ]
  },
  {
   "cell_type": "code",
   "execution_count": 8,
   "id": "7ee33c71-678d-49c3-aa4b-f3497b428db6",
   "metadata": {},
   "outputs": [
    {
     "ename": "NameError",
     "evalue": "name 'nm' is not defined",
     "output_type": "error",
     "traceback": [
      "\u001b[0;31m---------------------------------------------------------------------------\u001b[0m",
      "\u001b[0;31mNameError\u001b[0m                                 Traceback (most recent call last)",
      "Cell \u001b[0;32mIn[8], line 1\u001b[0m\n\u001b[0;32m----> 1\u001b[0m lambda_ \u001b[38;5;241m=\u001b[39m \u001b[38;5;241m602\u001b[39m\u001b[38;5;241m*\u001b[39m\u001b[43mnm\u001b[49m\n\u001b[1;32m      2\u001b[0m n \u001b[38;5;241m=\u001b[39m A \u001b[38;5;241m+\u001b[39m B\u001b[38;5;241m/\u001b[39mlambda_\u001b[38;5;241m*\u001b[39m\u001b[38;5;241m*\u001b[39m\u001b[38;5;241m2\u001b[39m\n",
      "\u001b[0;31mNameError\u001b[0m: name 'nm' is not defined"
     ]
    }
   ],
   "source": [
    "lambda_ = 602*nm\n",
    "n = A + B/lambda_**2"
   ]
  },
  {
   "cell_type": "code",
   "execution_count": null,
   "id": "86d6c502-4d3d-4186-a5c4-abb620f4e9c5",
   "metadata": {},
   "outputs": [],
   "source": []
  },
  {
   "cell_type": "code",
   "execution_count": null,
   "id": "017a93e6-a720-4d23-be45-5118ca4aabdf",
   "metadata": {},
   "outputs": [],
   "source": []
  }
 ],
 "metadata": {
  "kernelspec": {
   "display_name": "Python 3 (ipykernel)",
   "language": "python",
   "name": "python3"
  },
  "language_info": {
   "codemirror_mode": {
    "name": "ipython",
    "version": 3
   },
   "file_extension": ".py",
   "mimetype": "text/x-python",
   "name": "python",
   "nbconvert_exporter": "python",
   "pygments_lexer": "ipython3",
   "version": "3.9.16"
  }
 },
 "nbformat": 4,
 "nbformat_minor": 5
}
